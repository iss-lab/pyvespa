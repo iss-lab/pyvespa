{
 "cells": [
  {
   "cell_type": "markdown",
   "metadata": {},
   "source": [
    "<picture>\n",
    "  <source media=\"(prefers-color-scheme: dark)\" srcset=\"https://assets.vespa.ai/logos/Vespa-logo-green-RGB.svg\">\n",
    "  <source media=\"(prefers-color-scheme: light)\" srcset=\"https://assets.vespa.ai/logos/Vespa-logo-dark-RGB.svg\">\n",
    "  <img alt=\"#Vespa\" width=\"200\" src=\"https://assets.vespa.ai/logos/Vespa-logo-dark-RGB.svg\" style=\"margin-bottom: 25px;\">\n",
    "</picture>\n",
    "\n",
    "# pyvespa Query builder\n",
    "\n",
    "The Query Builder in pyvespa provides a more 'pythonic' way of building YQL query strings and this guide goes through constructing queries for the [Covid-19 Vespa instance](https://cord19.vespa.ai/).\n",
    "\n",
    "While simple queries can be built with string formatting; building complex queries that contain a lot of dynamic parameters can get difficult and this is where the query builder comes in handy.\n",
    "\n",
    "The query builder is only responsible to build a YQL string which then can be used for querying using various methods (see query notebook).\n",
    "\n",
    "First lets install pyvespa that supports query builder:"
   ]
  },
  {
   "cell_type": "code",
   "execution_count": null,
   "metadata": {},
   "outputs": [],
   "source": [
    "!pip install pyvespa>=0.52.0"
   ]
  },
  {
   "cell_type": "code",
   "execution_count": 2,
   "metadata": {},
   "outputs": [],
   "source": [
    "from vespa.application import Vespa\n",
    "from vespa import querybuilder as qb\n",
    "from vespa.io import VespaQueryResponse\n",
    "\n",
    "app = Vespa(url=\"https://api.cord19.vespa.ai\")"
   ]
  },
  {
   "cell_type": "markdown",
   "metadata": {},
   "source": [
    "At an abstract level a query can be divided into 2 parts: \n",
    " - `QueryField`: the fields part of the schema and needs to be queried on. For example in the Covid-19 schema `title`, `abstract`, etc can be used as fields.\n",
    " - `Condition`: Logic operators used to combine the queryfields (and, or, etc)\n"
   ]
  },
  {
   "cell_type": "markdown",
   "metadata": {},
   "source": [
    "Lets start with something simple: building a query for fetching documents with a specific keyword in the title.\n"
   ]
  },
  {
   "cell_type": "code",
   "execution_count": 3,
   "metadata": {},
   "outputs": [
    {
     "name": "stdout",
     "output_type": "stream",
     "text": [
      "Built query: select title, abstract from doc where title contains \"vaccine\"\n"
     ]
    },
    {
     "data": {
      "text/plain": [
       "[{'id': 'index:content/1/70a738d39b864060c2a36d4c',\n",
       "  'relevance': 0.3941869377562002,\n",
       "  'source': 'content',\n",
       "  'fields': {'title': '<hi>Vaccine</hi> hesitancy due to <hi>vaccine</hi> country of origin, <hi>vaccine</hi> technology, and certification',\n",
       "   'abstract': 'Vaccine hesitancy is a global health threat which may hinder the widespread acceptance of several COVID-19 vaccines. Following the collection of 2470 responses from an anonymous questionnaire distributed between October and November 2020 across Israel, we analyzed the responses of physicians, life science graduates (biology, virology, chemistry, etc.), and the general public to whether they would obtain a COVID-19 vaccine with particular vaccine characteristics such as vaccine country of origin, technology, side effect profile, efficacy, and other attributes. Physicians and life science graduates were least likely to accept a vaccine based on mRNA technology (30%) while the general<sep />'}}]"
      ]
     },
     "execution_count": 3,
     "metadata": {},
     "output_type": "execute_result"
    }
   ],
   "source": [
    "title_field = qb.QueryField(\"title\")\n",
    "condition = title_field.contains(\"vaccine\")\n",
    "yql_query = qb.select([\"title\", \"abstract\"]).from_(\"doc\").where(condition)\n",
    "print(f\"Built query: {yql_query}\")\n",
    "resp = app.query(yql=yql_query, hits=1)\n",
    "resp.hits"
   ]
  },
  {
   "cell_type": "markdown",
   "metadata": {},
   "source": [
    "While the `select()` accepts a list of QueryFields you can also give a string."
   ]
  },
  {
   "cell_type": "code",
   "execution_count": 4,
   "metadata": {},
   "outputs": [
    {
     "name": "stdout",
     "output_type": "stream",
     "text": [
      "Built query: select title, abstract from doc where title contains \"vaccine\"\n"
     ]
    },
    {
     "data": {
      "text/plain": [
       "[{'id': 'index:content/1/70a738d39b864060c2a36d4c',\n",
       "  'relevance': 0.3941869377562002,\n",
       "  'source': 'content',\n",
       "  'fields': {'title': '<hi>Vaccine</hi> hesitancy due to <hi>vaccine</hi> country of origin, <hi>vaccine</hi> technology, and certification',\n",
       "   'abstract': 'Vaccine hesitancy is a global health threat which may hinder the widespread acceptance of several COVID-19 vaccines. Following the collection of 2470 responses from an anonymous questionnaire distributed between October and November 2020 across Israel, we analyzed the responses of physicians, life science graduates (biology, virology, chemistry, etc.), and the general public to whether they would obtain a COVID-19 vaccine with particular vaccine characteristics such as vaccine country of origin, technology, side effect profile, efficacy, and other attributes. Physicians and life science graduates were least likely to accept a vaccine based on mRNA technology (30%) while the general<sep />'}}]"
      ]
     },
     "execution_count": 4,
     "metadata": {},
     "output_type": "execute_result"
    }
   ],
   "source": [
    "yql_query = qb.select(\"title, abstract\").from_(\"doc\").where(condition)\n",
    "print(f\"Built query: {yql_query}\")\n",
    "resp = app.query(yql=yql_query, hits=1)\n",
    "resp.hits"
   ]
  },
  {
   "cell_type": "markdown",
   "metadata": {},
   "source": [
    "The same query can be extented by chaining it with the `set_timeout()` to change the default timeout:"
   ]
  },
  {
   "cell_type": "code",
   "execution_count": 5,
   "metadata": {},
   "outputs": [
    {
     "name": "stdout",
     "output_type": "stream",
     "text": [
      "Built query: select title, abstract from doc where title contains \"vaccine\" timeout 70\n"
     ]
    },
    {
     "data": {
      "text/plain": [
       "[{'id': 'index:content/1/70a738d39b864060c2a36d4c',\n",
       "  'relevance': 0.3941869377562002,\n",
       "  'source': 'content',\n",
       "  'fields': {'title': '<hi>Vaccine</hi> hesitancy due to <hi>vaccine</hi> country of origin, <hi>vaccine</hi> technology, and certification',\n",
       "   'abstract': 'Vaccine hesitancy is a global health threat which may hinder the widespread acceptance of several COVID-19 vaccines. Following the collection of 2470 responses from an anonymous questionnaire distributed between October and November 2020 across Israel, we analyzed the responses of physicians, life science graduates (biology, virology, chemistry, etc.), and the general public to whether they would obtain a COVID-19 vaccine with particular vaccine characteristics such as vaccine country of origin, technology, side effect profile, efficacy, and other attributes. Physicians and life science graduates were least likely to accept a vaccine based on mRNA technology (30%) while the general<sep />'}}]"
      ]
     },
     "execution_count": 5,
     "metadata": {},
     "output_type": "execute_result"
    }
   ],
   "source": [
    "yql_query = qb.select(\"title, abstract\").from_(\"doc\").where(condition).set_timeout(70)\n",
    "print(f\"Built query: {yql_query}\")\n",
    "resp = app.query(yql=yql_query, hits=1)\n",
    "resp.hits"
   ]
  },
  {
   "cell_type": "markdown",
   "metadata": {},
   "source": [
    "Which can then further be chained with the `limit()`; And you dont have to worry about the order of the function chain because the query builder will safely handel the order and generate a valid YQL string."
   ]
  },
  {
   "cell_type": "code",
   "execution_count": 6,
   "metadata": {},
   "outputs": [
    {
     "name": "stdout",
     "output_type": "stream",
     "text": [
      "Built query: select title, abstract from doc where title contains \"vaccine\" limit 2 timeout 70\n"
     ]
    },
    {
     "data": {
      "text/plain": [
       "[{'id': 'index:content/1/70a738d39b864060c2a36d4c',\n",
       "  'relevance': 0.3941869377562002,\n",
       "  'source': 'content',\n",
       "  'fields': {'title': '<hi>Vaccine</hi> hesitancy due to <hi>vaccine</hi> country of origin, <hi>vaccine</hi> technology, and certification',\n",
       "   'abstract': 'Vaccine hesitancy is a global health threat which may hinder the widespread acceptance of several COVID-19 vaccines. Following the collection of 2470 responses from an anonymous questionnaire distributed between October and November 2020 across Israel, we analyzed the responses of physicians, life science graduates (biology, virology, chemistry, etc.), and the general public to whether they would obtain a COVID-19 vaccine with particular vaccine characteristics such as vaccine country of origin, technology, side effect profile, efficacy, and other attributes. Physicians and life science graduates were least likely to accept a vaccine based on mRNA technology (30%) while the general<sep />'}},\n",
       " {'id': 'index:content/1/932774c8c05e0b9fe289f974',\n",
       "  'relevance': 0.3941869377562002,\n",
       "  'source': 'content',\n",
       "  'fields': {'title': '<hi>Vaccine</hi> hesitance and <hi>vaccine</hi> access in minority communities',\n",
       "   'abstract': 'Attaining equity in vaccination distribution is a moral and ethical goal that ensures all members of our community are properly cared for. We suggest a comprehensive approach that involves allocating community resources based on local economic, demographic, and COVID-19 infection data, removing technology barriers by staffing vaccine appointment call-in centers, distributing vaccines based on objective factors (eg, household density) rather than on a \"first come, first served\" basis, and creating pop-up vaccination sites at trusted community organizations such as federally qualified healthcare centers, churches<sep />'}}]"
      ]
     },
     "execution_count": 6,
     "metadata": {},
     "output_type": "execute_result"
    }
   ],
   "source": [
    "yql_query = (\n",
    "    qb.select(\"title, abstract\")\n",
    "    .from_(\"doc\")\n",
    "    .where(condition)\n",
    "    .set_timeout(70)\n",
    "    .set_limit(2)\n",
    ")\n",
    "print(f\"Built query: {yql_query}\")\n",
    "resp = app.query(yql=yql_query)\n",
    "resp.hits"
   ]
  },
  {
   "cell_type": "markdown",
   "metadata": {},
   "source": [
    "You can also invert conditions after building them by just adding the `~` symbol in front of the condition."
   ]
  },
  {
   "cell_type": "code",
   "execution_count": 7,
   "metadata": {},
   "outputs": [
    {
     "name": "stdout",
     "output_type": "stream",
     "text": [
      "Built query: select title, abstract from doc where !(title contains \"vaccine\")\n"
     ]
    },
    {
     "data": {
      "text/plain": [
       "[{'id': 'index:content/0/002ce120e92209b150769c39',\n",
       "  'relevance': 0.0,\n",
       "  'source': 'content',\n",
       "  'fields': {'title': 'Novel functions of the alphavirus nonstructural protein nsP3 C-terminal region.',\n",
       "   'abstract': 'The functions of the alphavirus-encoded nonstructural protein nsP3 during infection are poorly understood. In contrast, nsP1, nsP2, and nsP4 have known enzymatic activities and functions. A functional analysis of the C-terminal region of nsP3 of Semliki Forest virus revealed the presence of a degradation signal that overlaps with a sequence element located between nsP3 and nsP4 that is required for proteolytic processing. This element was responsible for the short half-life (1 h) of individually expressed nsP3, and it also was functionally transferable to other proteins. Inducible<sep />'}}]"
      ]
     },
     "execution_count": 7,
     "metadata": {},
     "output_type": "execute_result"
    }
   ],
   "source": [
    "condition = ~condition\n",
    "yql_query = qb.select(\"title, abstract\").from_(\"doc\").where(condition)\n",
    "print(f\"Built query: {yql_query}\")\n",
    "resp = app.query(yql=yql_query, hits=1)\n",
    "resp.hits"
   ]
  },
  {
   "cell_type": "markdown",
   "metadata": {},
   "source": [
    "Now lets say you wanted to query over multiple fields and combine them in a logical way along with mixing, matching logic operators:\n",
    " - `all()` for logical AND.\n",
    " - `any()` for local OR."
   ]
  },
  {
   "cell_type": "code",
   "execution_count": 8,
   "metadata": {},
   "outputs": [
    {
     "name": "stdout",
     "output_type": "stream",
     "text": [
      "Built query: select title, abstract from doc where title contains \"vaccine\" and !(abstract contains \"bad\") and (source contains \"PMC\" or !(title contains \"anti\"))\n"
     ]
    },
    {
     "data": {
      "text/plain": [
       "[{'id': 'index:content/1/bbe62ff50f44a1295c3328a2',\n",
       "  'relevance': 0.3959298571461784,\n",
       "  'source': 'content',\n",
       "  'fields': {'title': \"<hi>Vaccines</hi>: Kids' <hi>vaccine</hi> guards adults too, for now\"}}]"
      ]
     },
     "execution_count": 8,
     "metadata": {},
     "output_type": "execute_result"
    }
   ],
   "source": [
    "title = qb.QueryField(\"title\")\n",
    "abstract = qb.QueryField(\"abstract\")\n",
    "source = qb.QueryField(\"source\")\n",
    "\n",
    "condition_1 = title.contains(\"vaccine\")\n",
    "condition_2 = abstract.contains(\"bad\")\n",
    "condition_3 = source.contains(\"PMC\")\n",
    "condition_4 = title.contains(\"anti\")\n",
    "condition = qb.all(condition_1, ~condition_2, qb.any(condition_3, ~condition_4))\n",
    "\n",
    "yql_query = qb.select([\"title\", \"abstract\"]).from_(\"doc\").where(condition)\n",
    "print(f\"Built query: {yql_query}\")\n",
    "resp = app.query(yql=yql_query, hits=1)\n",
    "resp.hits"
   ]
  },
  {
   "cell_type": "markdown",
   "metadata": {},
   "source": [
    "The true power comes when you build each condition separately, enhancing long-term maintainability and readability."
   ]
  }
 ],
 "metadata": {
  "kernelspec": {
   "display_name": "base",
   "language": "python",
   "name": "python3"
  },
  "language_info": {
   "codemirror_mode": {
    "name": "ipython",
    "version": 3
   },
   "file_extension": ".py",
   "mimetype": "text/x-python",
   "name": "python",
   "nbconvert_exporter": "python",
   "pygments_lexer": "ipython3",
   "version": "3.10.4"
  }
 },
 "nbformat": 4,
 "nbformat_minor": 2
}
